{
  "nbformat": 4,
  "nbformat_minor": 0,
  "metadata": {
    "colab": {
      "provenance": [],
      "collapsed_sections": [
        "Mm0Yw9YkG1Te"
      ]
    },
    "kernelspec": {
      "name": "python3",
      "display_name": "Python 3"
    },
    "language_info": {
      "name": "python"
    }
  },
  "cells": [
    {
      "cell_type": "markdown",
      "source": [
        "#1. Obtenha o dataset do endereço https://www.w3resource.com/python-exercises/pandas/filter/world_alcohol.csv e realize as seguintes análises (2,5 pontos):"
      ],
      "metadata": {
        "id": "WwMffvD9ISYE"
      }
    },
    {
      "cell_type": "markdown",
      "source": [
        "###a. Agrupe os dados por tipo de bebidas;"
      ],
      "metadata": {
        "id": "CcytIKvIO9a1"
      }
    },
    {
      "cell_type": "code",
      "source": [
        "import pandas as pd\n",
        "df = pd.read_csv('https://raw.githubusercontent.com/AndreLuizTDias/python/main/NF3-BIG-DATA-Andre-Luiz-Trigueiro-Dias/world_alcohol.csv', encoding = 'latin-1', sep = ',', decimal = '.')\n",
        "df.groupby('Beverage Types').count()"
      ],
      "metadata": {
        "id": "gia6M23VO7KV"
      },
      "execution_count": null,
      "outputs": []
    },
    {
      "cell_type": "markdown",
      "source": [
        "###b. Agrupe os dados por Região e por Ano;"
      ],
      "metadata": {
        "id": "_tKxGc2QIS0C"
      }
    },
    {
      "cell_type": "code",
      "source": [
        "df.groupby('WHO region')['Year'].value_counts()"
      ],
      "metadata": {
        "id": "ANm3tadaITKi"
      },
      "execution_count": null,
      "outputs": []
    },
    {
      "cell_type": "markdown",
      "source": [
        "###c. Seção de Contagens: Contar a ocorrência de Regiões, de Países e a soma da coluna de valores por Bebida."
      ],
      "metadata": {
        "id": "Zs2GHSOjPPnK"
      }
    },
    {
      "cell_type": "code",
      "source": [
        "regiao = df['WHO region'].value_counts()\n",
        "print(regiao,\"\\n\")\n",
        "\n",
        "paises = df['Country'].value_counts()\n",
        "print(paises,\"\\n\")\n",
        "\n",
        "df = df.fillna(0)\n",
        "soma_bebidas = df['Display Value'].sum()\n",
        "print(\"soma dos valores das bebidas: \", soma_bebidas)\n"
      ],
      "metadata": {
        "id": "KxQpf4v2PRRR"
      },
      "execution_count": null,
      "outputs": []
    },
    {
      "cell_type": "markdown",
      "source": [
        "###d. Realize análises estatísticas da coluna dos valores: Média, Moda, Mediana, Estatística Descritiva e Gráfico de comparação dos valores agrupados por tipo de bebida."
      ],
      "metadata": {
        "id": "z1H6MTnyPWtw"
      }
    },
    {
      "cell_type": "code",
      "source": [
        "df = df.fillna(0)\n",
        "print('Media, Moda e Mediana')\n",
        "print(\"Media..: \", df['Display Value'].mean())\n",
        "print(\"Moda...: \", df['Display Value'].mode().to_string())\n",
        "print(\"Mediana: \", df['Display Value'].median())\n",
        "\n",
        "grupo = df.groupby('Beverage Types')['Display Value']\n",
        "print('\\nEstatística Descritiva',grupo.describe(),'\\n')\n",
        "\n",
        "print('Grafico de comparaçao')\n",
        "grupo.count().plot(kind= 'bar')\n",
        "\n"
      ],
      "metadata": {
        "id": "8TP8K7BNPg6g"
      },
      "execution_count": null,
      "outputs": []
    },
    {
      "cell_type": "markdown",
      "source": [
        "###e. Mostre resultados de acordo com alguns critérios:\n"
      ],
      "metadata": {
        "id": "D9uVkzoOPW__"
      }
    },
    {
      "cell_type": "code",
      "source": [
        "#i. Mostrar a coluna de bebidas do ano de 1985.\n",
        "bebidas_1985 = df.loc[df['Year'] == 1985]\n",
        "bebidas_1985\n",
        "\n",
        "#ii. Mostrar a coluna de Região com valores acima de 4.\n",
        "df = df.fillna(0)\n",
        "regiao_valores_acima_4 = df.loc[df['Display Value'] > 4]\n",
        "regiao_valores_acima_4"
      ],
      "metadata": {
        "id": "Y2DDmo8PR17A"
      },
      "execution_count": null,
      "outputs": []
    },
    {
      "cell_type": "markdown",
      "source": [
        "#2. Seja o dataset chamado cursos-prouni.csv que se encontra no endereço Cursos e notas de corte do PROUNI 2018 - Datasets - Brasil.IO. Baixe o arquivo, armazene no seu github** e obtenha os dados a partir desse endereço do github e realize as seguintes análises (2,5 pontos):"
      ],
      "metadata": {
        "id": "Mm0Yw9YkG1Te"
      }
    },
    {
      "cell_type": "markdown",
      "source": [
        "###a. Efetuar a limpeza das colunas de notas: onde tiver NaN (Not a Number), substituir por 0,0."
      ],
      "metadata": {
        "id": "c_orOv2fG5fF"
      }
    },
    {
      "cell_type": "code",
      "source": [
        "import pandas as pd\n",
        "df = pd.read_csv('https://raw.githubusercontent.com/AndreLuizTDias/python/main/NF3-BIG-DATA-Andre-Luiz-Trigueiro-Dias/cursos-prouni.csv', encoding = 'utf-8', sep = ',')\n",
        "df['nota_integral_ampla'] = df['nota_integral_ampla'].fillna(0.0)\n",
        "df['nota_integral_cotas'] = df['nota_integral_cotas'].fillna(0.0)\n",
        "df['nota_parcial_ampla']  = df['nota_parcial_ampla'].fillna(0.0)\n",
        "df['nota_parcial_cotas']  = df['nota_parcial_cotas'].fillna(0.0)\n",
        "df.head(5)\n"
      ],
      "metadata": {
        "id": "cYjhh2WxG5yO"
      },
      "execution_count": null,
      "outputs": []
    },
    {
      "cell_type": "markdown",
      "source": [
        "###b. Agrupe os dados pelo grau (Bacharelado, Licenciatura, etc)."
      ],
      "metadata": {
        "id": "Pxo5wHtCG6YN"
      }
    },
    {
      "cell_type": "code",
      "source": [
        "df.groupby(\"grau\").count()"
      ],
      "metadata": {
        "id": "dhy9fSxgNnfM"
      },
      "execution_count": null,
      "outputs": []
    },
    {
      "cell_type": "markdown",
      "source": [
        "###c. Agrupe os dados pelos cursos de Matemática, Medicina e Pedagogia."
      ],
      "metadata": {
        "id": "w_YBtXeGHE4S"
      }
    },
    {
      "cell_type": "code",
      "source": [
        "cursos = df.loc[df['curso_busca'].isin(['Medicina', 'Pedagogia','Matemática'])]\n",
        "cursos['curso_busca'].value_counts()"
      ],
      "metadata": {
        "id": "ZyEoZAlgOWxW"
      },
      "execution_count": null,
      "outputs": []
    },
    {
      "cell_type": "markdown",
      "source": [
        "###d. Agrupe os dados por Estado e obtenha a média de notas de corte por Estado."
      ],
      "metadata": {
        "id": "SWNV9O1jHFQy"
      }
    },
    {
      "cell_type": "code",
      "source": [
        "df.groupby(\"uf_busca\")[[\"nota_integral_ampla\",\"nota_integral_cotas\", \"nota_parcial_ampla\", \"nota_parcial_cotas\"]].mean()"
      ],
      "metadata": {
        "id": "6qk_D5v9PbWc"
      },
      "execution_count": null,
      "outputs": []
    },
    {
      "cell_type": "markdown",
      "source": [
        "###e. Agrupe os dados pelos cursos Tecnológicos."
      ],
      "metadata": {
        "id": "k6hpSYAiHFuq"
      }
    },
    {
      "cell_type": "code",
      "source": [
        "tecnologicos = df.loc[df['grau'] == 'Tecnológico']\n",
        "tecnologicos.groupby(\"grau\").count()"
      ],
      "metadata": {
        "id": "6zZdhDYSPbs7"
      },
      "execution_count": null,
      "outputs": []
    },
    {
      "cell_type": "markdown",
      "source": [
        "###f. Elimine a coluna “cidade_filtro” do dataframe."
      ],
      "metadata": {
        "id": "TGIPR22gHSfS"
      }
    },
    {
      "cell_type": "code",
      "source": [
        "df.drop(columns=['cidade_filtro'])\n",
        "df.head(1)"
      ],
      "metadata": {
        "id": "8ZWZcoJPPcfO"
      },
      "execution_count": null,
      "outputs": []
    },
    {
      "cell_type": "markdown",
      "source": [
        "###g. Apresente a média das mensalidades dos cursos de Medicina."
      ],
      "metadata": {
        "id": "kIcp693FHN8R"
      }
    },
    {
      "cell_type": "code",
      "source": [
        "media_mensalidade_medicina = df.loc[df['curso_busca'] == 'Medicina']\n",
        "print(\"media mensalidade do curso de medicina: \", media_mensalidade_medicina['mensalidade'].mean())"
      ],
      "metadata": {
        "id": "aMfObjVfPc6b"
      },
      "execution_count": null,
      "outputs": []
    },
    {
      "cell_type": "markdown",
      "source": [
        "###h. Média das notas de corte dos cursos de tempo integral."
      ],
      "metadata": {
        "id": "yLrbY7UzHaL_"
      }
    },
    {
      "cell_type": "code",
      "source": [
        "cursos_tempo_integral = df.loc[df['turno'] == 'Integral']\n",
        "cursos_tempo_integral.groupby(\"nome\")[[\"nota_integral_ampla\",\"nota_integral_cotas\", \"nota_parcial_ampla\", \"nota_parcial_cotas\"]].mean()"
      ],
      "metadata": {
        "id": "yDhaYv7fQP5M"
      },
      "execution_count": null,
      "outputs": []
    },
    {
      "cell_type": "markdown",
      "source": [
        "###i. Estatística Descritiva das Notas Integral Ampla dos cursos de Bacharelado."
      ],
      "metadata": {
        "id": "63bAKqb1Hc1w"
      }
    },
    {
      "cell_type": "code",
      "source": [
        "Bacharelado = df.loc[df['grau'] == 'Bacharelado']\n",
        "Bacharelado['nota_integral_ampla'].describe()"
      ],
      "metadata": {
        "id": "9dPqlXS9QQQM"
      },
      "execution_count": null,
      "outputs": []
    },
    {
      "cell_type": "markdown",
      "source": [
        "###j. Gráfico comparativo entre o grau dos cursos (Bacharelado, Licenciatura, Tecnologia, etc) pelas Notas Integral de Cotas."
      ],
      "metadata": {
        "id": "SwY8lr5dHfkR"
      }
    },
    {
      "cell_type": "code",
      "source": [
        "cursos = df.groupby(\"grau\")\n",
        "notas = cursos['nota_integral_cotas'].count().plot(kind= 'bar')"
      ],
      "metadata": {
        "id": "BbGqAbViQRe7"
      },
      "execution_count": null,
      "outputs": []
    }
  ]
}